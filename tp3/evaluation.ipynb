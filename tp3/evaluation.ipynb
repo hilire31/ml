{
 "cells": [
  {
   "cell_type": "markdown",
   "metadata": {},
   "source": [
    "# Lab 3 Evaluation"
   ]
  },
  {
   "cell_type": "markdown",
   "metadata": {},
   "source": [
    "Names, Surnames, and Group : (to complete by 2 students)"
   ]
  },
  {
   "cell_type": "markdown",
   "metadata": {},
   "source": [
    "4 IR SI - Groupe A2\n",
    "- Firmin Rousseau\n",
    "- Anya Meetoo"
   ]
  },
  {
   "cell_type": "markdown",
   "metadata": {},
   "source": [
    "In the following, we consider the  (binarized) Compas dataset that we studied in the Lab"
   ]
  },
  {
   "cell_type": "code",
   "execution_count": 45,
   "metadata": {},
   "outputs": [],
   "source": [
    "import csv \n",
    "import numpy as np\n",
    "\n",
    "def load_from_csv(fname) :\n",
    "    features = []\n",
    "    prediction_name = \"\"\n",
    "\n",
    "    with open(fname, \"r\") as f:\n",
    "        features = f.readline().strip().split(\",\")\n",
    "        prediction_name = features[-1]\n",
    "        features = features[0:-1]\n",
    "\n",
    "    data = np.genfromtxt(fname, dtype=np.uint8, skip_header=1, delimiter=\",\")\n",
    "\n",
    "    X = data[:, 0:-1]\n",
    "    y = data[:, -1]\n",
    "\n",
    "    return X, y, features, prediction_name"
   ]
  },
  {
   "cell_type": "markdown",
   "metadata": {},
   "source": [
    "Q1: A decision tree configuration is a set of parameters that one can use to build decision trees. Propose 6 configurations that are likely to provide different topologies and caracteristics"
   ]
  },
  {
   "cell_type": "code",
   "execution_count": 46,
   "metadata": {},
   "outputs": [
    {
     "name": "stdout",
     "output_type": "stream",
     "text": [
      "number of configurations : 6\n"
     ]
    }
   ],
   "source": [
    "from sklearn.model_selection import ParameterGrid\n",
    "from sklearn import tree\n",
    "\n",
    "# parameters configuration\n",
    "\n",
    "# 54 configurations\n",
    "# parameters = {\n",
    "#     'splitter': ['best'],\n",
    "#     'max_depth': [1,2,3,5,7,9,11,13,15],\n",
    "#     'min_samples_leaf': [1,2,3,4,5,6]\n",
    "# }\n",
    "# grid = ParameterGrid(parameters)\n",
    "\n",
    "\n",
    "# 6 configurations\n",
    "grid = [\n",
    "    {'splitter': 'best', 'max_depth': 2,  'min_samples_leaf': 1},\n",
    "    {'splitter': 'best', 'max_depth': 3,  'min_samples_leaf': 2},\n",
    "    {'splitter': 'best', 'max_depth': 5,  'min_samples_leaf': 3},\n",
    "    {'splitter': 'best', 'max_depth': 7,  'min_samples_leaf': 4},\n",
    "    {'splitter': 'best', 'max_depth': 9,  'min_samples_leaf': 5},\n",
    "    {'splitter': 'best', 'max_depth': 11, 'min_samples_leaf': 6}\n",
    "]\n",
    "\n",
    "\n",
    "trees=[]\n",
    "for params in grid:\n",
    "    tree1 = tree.DecisionTreeClassifier(**params)\n",
    "    trees.append(tree1)    \n",
    "\n",
    "print(f\"number of configurations : {len(trees)}\")"
   ]
  },
  {
   "cell_type": "markdown",
   "metadata": {},
   "source": [
    "Q2: Train a decision tree for each of the previous configurations on the full dataset"
   ]
  },
  {
   "cell_type": "code",
   "execution_count": 47,
   "metadata": {},
   "outputs": [],
   "source": [
    "train_examples, train_labels, features, prediction = load_from_csv(\"./compass.csv\")\n",
    "\n",
    "fit_trees=[]\n",
    "for tr in trees:\n",
    "    fit_trees.append(tr.fit(train_examples, train_labels)) # train each tree"
   ]
  },
  {
   "cell_type": "code",
   "execution_count": 48,
   "metadata": {},
   "outputs": [
    {
     "name": "stdout",
     "output_type": "stream",
     "text": [
      "score = 68.63265693153802 %\n"
     ]
    }
   ],
   "source": [
    "# Another method is using GridSearchCV\n",
    "\n",
    "from sklearn.model_selection import GridSearchCV\n",
    "\n",
    "# 54 configurations\n",
    "parameters = {\n",
    "     'splitter': ['best'],\n",
    "     'max_depth': [1,2,3,5,7,9,11,13,15],\n",
    "     'min_samples_leaf': [1,2,3,4,5,6]\n",
    "}\n",
    "\n",
    "grid_cv=GridSearchCV(estimator=tree.DecisionTreeClassifier(), param_grid=parameters, cv=5)\n",
    "\n",
    "grid_cv = grid_cv.fit(train_examples,train_labels)\n",
    "\n",
    "clf=grid_cv.best_estimator_\n",
    "a=grid_cv.best_params_\n",
    "\n",
    "sc=clf.score(train_examples,train_labels)\n",
    "\n",
    "print(f\"score = {sc*100} %\")"
   ]
  },
  {
   "cell_type": "markdown",
   "metadata": {},
   "source": [
    "Q3: Propose an evaluation in terms of training and testing accuracies using $5$-cross validation on two decision trees that have different topologies"
   ]
  },
  {
   "cell_type": "code",
   "execution_count": 49,
   "metadata": {},
   "outputs": [
    {
     "name": "stdout",
     "output_type": "stream",
     "text": [
      "Tree 1:\n",
      "Config: {'max_depth': 3, 'min_samples_leaf': 1, 'splitter': 'best'}\n",
      "Training Accuracy: 64.08116821543713 %\n",
      "Testing Accuracy (5-fold CV): 63.73997499932552 %\n",
      "\n",
      "Tree 2 :\n",
      "Config: {'max_depth': 15, 'min_samples_leaf': 5, 'splitter': 'best'}\n",
      "Training Accuracy: 68.91712497629433 %\n",
      "Testing Accuracy (5-fold CV): 65.67405595474698 %\n"
     ]
    }
   ],
   "source": [
    "# cross-evaluation function\n",
    "from sklearn.model_selection import cross_val_score\n",
    "\n",
    "# Parameters \n",
    "param1 = {'max_depth': 3, 'min_samples_leaf': 1, 'splitter': 'best'}\n",
    "param2 = {'max_depth': 15, 'min_samples_leaf': 5, 'splitter': 'best'}\n",
    "\n",
    "# Create two decision trees\n",
    "tree1 = tree.DecisionTreeClassifier(**param1)\n",
    "tree2 = tree.DecisionTreeClassifier(**param2)\n",
    "\n",
    "# Evaluate with 5-fold cross-validation\n",
    "scores1 = cross_val_score(tree1, train_examples, train_labels, cv=5)\n",
    "scores2 = cross_val_score(tree2, train_examples, train_labels, cv=5)\n",
    "\n",
    "# Training \n",
    "tree1.fit(train_examples, train_labels)\n",
    "tree2.fit(train_examples, train_labels)\n",
    "\n",
    "train_score1 = tree1.score(train_examples, train_labels)\n",
    "train_score2 = tree2.score(train_examples, train_labels)\n",
    "\n",
    "# Print results\n",
    "print(\"Tree 1:\")\n",
    "print(f\"Config: {param1}\")\n",
    "print(f\"Training Accuracy: {train_score1*100} %\")\n",
    "print(f\"Testing Accuracy (5-fold CV): {scores1.mean()*100} %\")\n",
    "\n",
    "print(\"\\nTree 2 :\")\n",
    "print(f\"Config: {param2}\")\n",
    "print(f\"Training Accuracy: {train_score2*100} %\")\n",
    "print(f\"Testing Accuracy (5-fold CV): {scores2.mean()*100} %\")"
   ]
  },
  {
   "cell_type": "markdown",
   "metadata": {},
   "source": [
    "Q4: Propose an experimental study that shows the transition phase from underfitting to overfitting "
   ]
  },
  {
   "cell_type": "code",
   "execution_count": 50,
   "metadata": {},
   "outputs": [
    {
     "data": {
      "image/png": "[encoded data removed]",
      "text/plain": [
       "<Figure size 640x480 with 1 Axes>"
      ]
     },
     "metadata": {},
     "output_type": "display_data"
    }
   ],
   "source": [
    "from sklearn.model_selection import ParameterGrid\n",
    "from sklearn import tree\n",
    "\n",
    "from sklearn.model_selection import train_test_split\n",
    "\n",
    "train_examples, train_labels, features, prediction = load_from_csv(\"./compass.csv\")\n",
    "X_train, X_test, y_train, y_test = train_test_split(train_examples, train_labels, test_size=0.3, random_state=42)\n",
    "\n",
    "parameters = {\n",
    "    'max_depth': [i for i in range(1,30)]\n",
    "}\n",
    "grid = ParameterGrid(parameters)\n",
    "trees=[]\n",
    "train_scores = []\n",
    "test_scores = []\n",
    "depths = []\n",
    "\n",
    "for params in grid:\n",
    "    clf = tree.DecisionTreeClassifier(**params)\n",
    "    clf.fit(X_train, y_train)\n",
    "\n",
    "    train_score = clf.score(X_train, y_train)\n",
    "    test_score = clf.score(X_test, y_test)\n",
    "\n",
    "    train_scores.append(train_score)\n",
    "    test_scores.append(test_score)\n",
    "    depths.append(params['max_depth'])\n",
    "\n",
    "best_depth = depths[test_scores.index(max(test_scores))]\n",
    "\n",
    "# PLOTTING \n",
    "import matplotlib.pyplot as plt\n",
    "\n",
    "plt.plot(depths, train_scores, label='Train accuracy')\n",
    "plt.plot(depths, test_scores, label='Test accuracy')\n",
    "plt.axvline(best_depth, linestyle='--', color='gray', label=f'Best depth = {best_depth}')\n",
    "\n",
    "plt.xlabel('Max Depth')\n",
    "plt.ylabel('Accuracy')\n",
    "plt.title('Transition underfitting → overfitting (Decision Tree)')\n",
    "plt.legend()\n",
    "plt.grid()\n",
    "plt.show()\n",
    "\n"
   ]
  },
  {
   "cell_type": "markdown",
   "metadata": {},
   "source": [
    "- The graph shows the evolutions of training and testing accuracy of a decision tree as we increase its depth from 1 to 29.\n",
    "- When both training and testing accuracies are low (before depth = 13), this indicates underfitting.\n",
    "- At depth 13, this point is called the optimal generalisation as it shows the best depth which is neither underfitting or overfitting.\n",
    "- After depth 13, the training accuracy approaches 71% but testing is way less, showing signs of overfitting."
   ]
  },
  {
   "cell_type": "markdown",
   "metadata": {},
   "source": [
    "Q5: Construct the confusion matrix on a particular good configuration (after explaining your choice)"
   ]
  },
  {
   "cell_type": "code",
   "execution_count": 51,
   "metadata": {},
   "outputs": [
    {
     "data": {
      "text/plain": [
       "<sklearn.metrics._plot.confusion_matrix.ConfusionMatrixDisplay at 0x25bb6b4c920>"
      ]
     },
     "execution_count": 51,
     "metadata": {},
     "output_type": "execute_result"
    },
    {
     "data": {
      "image/png": "[encoded data removed]",
      "text/plain": [
       "<Figure size 640x480 with 2 Axes>"
      ]
     },
     "metadata": {},
     "output_type": "display_data"
    }
   ],
   "source": [
    "from sklearn.metrics import confusion_matrix, ConfusionMatrixDisplay\n",
    "from sklearn.tree import DecisionTreeClassifier\n",
    "from sklearn.model_selection import train_test_split\n",
    "\n",
    "X, Y, features, prediction = load_from_csv(\"./compass.csv\")\n",
    "X_train, X_test, y_train, y_test = train_test_split(X, Y, test_size=0.3, random_state=42)\n",
    "\n",
    "# Train with best depth (good configuration explained in Q4)\n",
    "clf = DecisionTreeClassifier(max_depth=13)\n",
    "clf.fit(X_train, y_train)\n",
    "\n",
    "# Prediction\n",
    "y_pred = clf.predict(X_test)\n",
    "\n",
    "# Confusion matrix\n",
    "cm = confusion_matrix(y_test, y_pred)\n",
    "\n",
    "# Plot\n",
    "disp = ConfusionMatrixDisplay(confusion_matrix=cm, display_labels=[\"0\", \"1\"])\n",
    "disp.plot()\n"
   ]
  },
  {
   "cell_type": "markdown",
   "metadata": {},
   "source": [
    "Q6: Provide an evaluation of the fairness of the model based on the False Positive Rate"
   ]
  },
  {
   "cell_type": "code",
   "execution_count": null,
   "metadata": {},
   "outputs": [
    {
     "name": "stdout",
     "output_type": "stream",
     "text": [
      "False Positive Rate for Group 0: 0.1715686274509804\n",
      "False Positive Rate for Group 1: 0.386892177589852\n"
     ]
    }
   ],
   "source": [
    "import csv\n",
    "import numpy as np\n",
    "\n",
    "\n",
    "# comparing Y_test and Y_pred => rate false_postive\n",
    "def false_positive_rate(y_true, y_pred):\n",
    "    cm = confusion_matrix(y_true, y_pred)\n",
    "    true_neg, false_pos, false_neg, true_pos = cm.ravel()\n",
    "    \n",
    "    # false positive rate = all_false_positive / sum(all_false_positive + all_true_negative)\n",
    "    return false_pos / (false_pos + true_neg) \n",
    "\n",
    "X, Y, features, prediction = load_from_csv(\"./compass.csv\")\n",
    "\n",
    "# choose first column (feature) : race_African-American to be fair \n",
    "# this will be used to do the evaluation of False Postive Rate \n",
    "race_column = X[:, 0]\n",
    "\n",
    "X_train, X_test, Y_train, Y_test, race_train, race_test = train_test_split(X, Y, race_column, test_size=0.3, random_state=42)\n",
    "\n",
    "# Train decision tree\n",
    "clf = DecisionTreeClassifier(max_depth=13)\n",
    "clf.fit(X_train, Y_train)\n",
    "\n",
    "# Predictions\n",
    "Y_pred = clf.predict(X_test)\n",
    "\n",
    "# split race test into class 0 and class 1 (negative, positive)\n",
    "class0 = []\n",
    "class1 = []\n",
    "\n",
    "for index in range(len(race_test)) :\n",
    "    if race_test[index] == 0 : class0.append(index)\n",
    "    elif race_test[index] == 1 : class1.append(index)\n",
    "\n",
    "# false positive rate for both classes\n",
    "rate_false_posive_0 = false_positive_rate(Y_test[class0], Y_pred[class0])\n",
    "rate_false_posive_1 = false_positive_rate(Y_test[class1], Y_pred[class1])\n",
    "\n",
    "print(f\"False Positive Rate for Group 0: {rate_false_posive_0:}\")\n",
    "print(f\"False Positive Rate for Group 1: {rate_false_posive_1:}\")"
   ]
  }
 ],
 "metadata": {
  "kernelspec": {
   "display_name": "Python 3",
   "language": "python",
   "name": "python3"
  },
  "language_info": {
   "codemirror_mode": {
    "name": "ipython",
    "version": 3
   },
   "file_extension": ".py",
   "mimetype": "text/x-python",
   "name": "python",
   "nbconvert_exporter": "python",
   "pygments_lexer": "ipython3",
   "version": "3.12.10"
  }
 },
 "nbformat": 4,
 "nbformat_minor": 4
}
